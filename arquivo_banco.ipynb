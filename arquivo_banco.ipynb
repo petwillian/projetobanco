{
  "nbformat": 4,
  "nbformat_minor": 0,
  "metadata": {
    "colab": {
      "provenance": []
    },
    "kernelspec": {
      "name": "python3",
      "display_name": "Python 3"
    },
    "language_info": {
      "name": "python"
    }
  },
  "cells": [
    {
      "cell_type": "markdown",
      "source": [
        "# **essa nao**"
      ],
      "metadata": {
        "id": "3OapGh6B346A"
      }
    },
    {
      "cell_type": "code",
      "source": [
        "# !pip install pyinstaller"
      ],
      "metadata": {
        "id": "tSSByhklKhoP"
      },
      "execution_count": null,
      "outputs": []
    },
    {
      "cell_type": "code",
      "source": [
        "# !pyinstaller --onefile banco.py"
      ],
      "metadata": {
        "id": "1vtVvy0kKzxD"
      },
      "execution_count": null,
      "outputs": []
    },
    {
      "cell_type": "code",
      "source": [
        "# !pip install pathlib"
      ],
      "metadata": {
        "id": "yj8mwxVBLRok"
      },
      "execution_count": null,
      "outputs": []
    },
    {
      "cell_type": "code",
      "source": [
        "import json\n",
        "import os\n",
        "from datetime import datetime\n",
        "import pytz # Import the pytz module\n",
        "\n",
        "class ContaBancaria:\n",
        "    def __init__(self, saldo_inicial=0, usuario=None):\n",
        "        self.saldo = saldo_inicial\n",
        "        self.transacoes = []\n",
        "        self.usuario = usuario\n",
        "        self.carregar_extrato()  # Carrega o saldo ao inicializar\n",
        "\n",
        "    def sacar(self, valor):\n",
        "        if valor > self.saldo:\n",
        "            print(\"Erro: Saldo insuficiente para realizar o saque.\")\n",
        "        else:\n",
        "            self.saldo -= valor\n",
        "            self.registrar_transacao(\"Saque\", valor)\n",
        "            print(f\"Saque de R${valor:.2f} realizado com sucesso.\")\n",
        "            print(f\"Saldo atual: R${self.saldo:.2f}\")\n",
        "\n",
        "    def depositar(self, valor):\n",
        "        self.saldo += valor\n",
        "        self.registrar_transacao(\"Depósito\", valor)\n",
        "        print(f\"Depósito de R${valor:.2f} realizado com sucesso.\")\n",
        "        print(f\"Saldo atual: R${self.saldo:.2f}\")\n",
        "\n",
        "    def registrar_transacao(self, tipo, valor):\n",
        "        fuso_horario_brasilia = pytz.timezone('America/Sao_Paulo')\n",
        "        data_atual = datetime.now(fuso_horario_brasilia).strftime('%d/%m/%Y %H:%M:%S')  # Data e hora no fuso de Brasília\n",
        "        transacao = {\n",
        "            \"usuario\": self.usuario,\n",
        "            \"tipo\": tipo,\n",
        "            \"valor\": valor,\n",
        "            \"saldo_atual\": self.saldo,\n",
        "            \"data\": data_atual  # Adiciona a data da transação\n",
        "        }\n",
        "        self.transacoes.append(transacao)\n",
        "        self.salvar_transacoes()\n",
        "        self.salvar_transacao_geral(transacao)\n",
        "        self.salvar_extrato()\n",
        "\n",
        "    def salvar_transacoes(self):\n",
        "        with open(f'cliente_{self.usuario}.json', 'w') as arquivo:\n",
        "            json.dump(self.transacoes, arquivo, indent=4)\n",
        "\n",
        "    def salvar_transacao_geral(self, transacao):\n",
        "        if os.path.exists('Todos_os_Clientes.json'):\n",
        "            with open('Todos_os_Clientes.json', 'r') as arquivo:\n",
        "                transacoes_gerais = json.load(arquivo)\n",
        "        else:\n",
        "            transacoes_gerais = []\n",
        "\n",
        "        transacoes_gerais.append(transacao)\n",
        "\n",
        "        with open('Todos_os_Clientes.json', 'w') as arquivo:\n",
        "            json.dump(transacoes_gerais, arquivo, indent=4)\n",
        "\n",
        "    def salvar_extrato(self):\n",
        "        with open(f'extrato_{self.usuario}.json', 'w') as arquivo:\n",
        "            json.dump({\"extrato\": self.saldo, \"transacoes\": self.transacoes}, arquivo, indent=4)\n",
        "\n",
        "    def carregar_extrato(self):\n",
        "        if os.path.exists(f'extrato_{self.usuario}.json'):\n",
        "            with open(f'extrato_{self.usuario}.json', 'r') as arquivo:\n",
        "                dados = json.load(arquivo)\n",
        "                self.saldo = dados.get(\"extrato\", 0)\n",
        "                self.transacoes = dados.get(\"transacoes\", [])\n",
        "\n",
        "def autenticar_usuario(usuarios):\n",
        "    usuario = input(\"Digite seu nome de usuário: \")\n",
        "    senha = input(\"Digite sua senha: \")\n",
        "\n",
        "    if usuario in usuarios and usuarios[usuario]['senha'] == senha:\n",
        "        return usuario\n",
        "    else:\n",
        "        print(\"Usuário ou senha inválidos.\")\n",
        "        return None\n",
        "\n",
        "def main():\n",
        "    usuarios = {\n",
        "        \"01\": {\"senha\": \"01\", \"conta\": ContaBancaria(0, \"01\")},\n",
        "        \"02\": {\"senha\": \"02\", \"conta\": ContaBancaria(0, \"02\")},\n",
        "        \"03\": {\"senha\": \"03\", \"conta\": ContaBancaria(0, \"03\")}\n",
        "    }\n",
        "\n",
        "    usuario = autenticar_usuario(usuarios)\n",
        "    if usuario:\n",
        "        conta = usuarios[usuario]['conta']\n",
        "\n",
        "        while True:\n",
        "            print(\"\\nEscolha uma opção:\")\n",
        "            print(\"1. Sacar\")\n",
        "            print(\"2. Depositar\")\n",
        "            print(\"3. Consultar Saldo\")\n",
        "            print(\"4. Consultar Transações\")\n",
        "            print(\"5. Sair\")\n",
        "\n",
        "            opcao = input(\"Digite o número da opção desejada: \")\n",
        "\n",
        "            if opcao == '1':\n",
        "                valor_saque = float(input(\"Digite o valor a ser sacado: R$\"))\n",
        "                conta.sacar(valor_saque)\n",
        "            elif opcao == '2':\n",
        "                valor_deposito = float(input(\"Digite o valor a ser depositado: R$\"))\n",
        "                conta.depositar(valor_deposito)\n",
        "            elif opcao == '3':\n",
        "                print(f\"Saldo atual: R${conta.saldo:.2f}\")\n",
        "            elif opcao == '4':\n",
        "                print(\"\\nTransações:\")\n",
        "                for transacao in conta.transacoes:\n",
        "                    print(f\"{transacao['data']} - {transacao['tipo']}: R${transacao['valor']:.2f} | Saldo após transação: R${transacao['saldo_atual']:.2f}\")\n",
        "            elif opcao == '5':\n",
        "                print(\"Saindo do sistema...\")\n",
        "                break\n",
        "            else:\n",
        "                print(\"Opção inválida. Tente novamente.\")\n",
        "\n",
        "if __name__ == \"__main__\":\n",
        "    main()\n"
      ],
      "metadata": {
        "colab": {
          "base_uri": "https://localhost:8080/"
        },
        "id": "6EuiKvHeY4Zb",
        "outputId": "f161a790-c3b8-4c7d-fe0e-9f52207c3f59"
      },
      "execution_count": 37,
      "outputs": [
        {
          "output_type": "stream",
          "name": "stdout",
          "text": [
            "Digite seu nome de usuário: 01\n",
            "Digite sua senha: 01\n",
            "\n",
            "Escolha uma opção:\n",
            "1. Sacar\n",
            "2. Depositar\n",
            "3. Consultar Saldo\n",
            "4. Consultar Transações\n",
            "5. Sair\n",
            "Digite o número da opção desejada: 2\n",
            "Digite o valor a ser depositado: R$500\n",
            "Depósito de R$500.00 realizado com sucesso.\n",
            "Saldo atual: R$650.00\n",
            "\n",
            "Escolha uma opção:\n",
            "1. Sacar\n",
            "2. Depositar\n",
            "3. Consultar Saldo\n",
            "4. Consultar Transações\n",
            "5. Sair\n",
            "Digite o número da opção desejada: 4\n",
            "\n",
            "Transações:\n",
            "03/11/2024 18:57:34 - Depósito: R$200.00 | Saldo após transação: R$200.00\n",
            "03/11/2024 18:58:15 - Saque: R$50.00 | Saldo após transação: R$150.00\n",
            "03/11/2024 16:03:41 - Depósito: R$500.00 | Saldo após transação: R$650.00\n",
            "\n",
            "Escolha uma opção:\n",
            "1. Sacar\n",
            "2. Depositar\n",
            "3. Consultar Saldo\n",
            "4. Consultar Transações\n",
            "5. Sair\n",
            "Digite o número da opção desejada: 3\n",
            "Saldo atual: R$650.00\n",
            "\n",
            "Escolha uma opção:\n",
            "1. Sacar\n",
            "2. Depositar\n",
            "3. Consultar Saldo\n",
            "4. Consultar Transações\n",
            "5. Sair\n",
            "Digite o número da opção desejada: 5\n",
            "Saindo do sistema...\n"
          ]
        }
      ]
    },
    {
      "cell_type": "code",
      "source": [
        "!pip install pytz\n"
      ],
      "metadata": {
        "colab": {
          "base_uri": "https://localhost:8080/"
        },
        "id": "47q0rH6GaAmJ",
        "outputId": "11307ff3-3204-445d-efb2-d0c292462479"
      },
      "execution_count": 35,
      "outputs": [
        {
          "output_type": "stream",
          "name": "stdout",
          "text": [
            "Requirement already satisfied: pytz in /usr/local/lib/python3.10/dist-packages (2024.2)\n"
          ]
        }
      ]
    }
  ]
}